{
 "cells": [
  {
   "cell_type": "markdown",
   "id": "7ba85df2-6664-4f34-9573-7d5cd338b68f",
   "metadata": {
    "tags": [],
    "toc-hr-collapsed": true
   },
   "source": [
    "# Data Extraction"
   ]
  },
  {
   "cell_type": "code",
   "execution_count": 1,
   "id": "f9d93834-4dd0-4bbb-8b1f-86521ff36b84",
   "metadata": {},
   "outputs": [],
   "source": [
    "import pandas as pd\n",
    "import requests\n",
    "from bs4 import BeautifulSoup"
   ]
  },
  {
   "cell_type": "code",
   "execution_count": 2,
   "id": "8773d471-9d28-433a-a559-c1779614a57e",
   "metadata": {},
   "outputs": [],
   "source": [
    "df = pd.read_excel('Input.xlsx')\n",
    "\n",
    "urls = df['URL'].tolist()\n",
    "url_ids = df['URL_ID'].tolist()"
   ]
  },
  {
   "cell_type": "code",
   "execution_count": 3,
   "id": "efc8ea66-ca75-49ae-b2f9-d8b4da3c158d",
   "metadata": {},
   "outputs": [],
   "source": [
    "def extract_article_text(url):\n",
    "    \n",
    "    response = requests.get(url)\n",
    "    \n",
    "    soup = BeautifulSoup(response.content, 'lxml')\n",
    "    \n",
    "    title = soup.find('h1').text if soup.find('h1') else \"Title not found\"\n",
    "    \n",
    "    article_div = soup.find('div', class_=\"td-post-content\")\n",
    "    text = article_div.text if article_div else \"Text not found\"\n",
    "    \n",
    "    return title, text\n",
    "\n",
    "result_df = pd.DataFrame(columns=[\"URL_ID\", \"Title\", \"Text\"])\n",
    "\n",
    "for url, url_id in zip(urls,url_ids):\n",
    "    title, text = extract_article_text(url)\n",
    "    row_df = pd.DataFrame({\"Title\": [title], \"Text\": [text], \"URL_ID\": [url_id]})\n",
    "    result_df = pd.concat([result_df, row_df], ignore_index=True)"
   ]
  },
  {
   "cell_type": "code",
   "execution_count": 4,
   "id": "ce9a9316-a4d2-4ca3-858f-677ab05711a7",
   "metadata": {},
   "outputs": [],
   "source": [
    "result_df['Text'] = result_df['Text'].str.replace('\\n', '')"
   ]
  },
  {
   "cell_type": "code",
   "execution_count": 5,
   "id": "6e692930-9058-4ff5-9862-b48e0286892b",
   "metadata": {},
   "outputs": [
    {
     "data": {
      "text/html": [
       "<div>\n",
       "<style scoped>\n",
       "    .dataframe tbody tr th:only-of-type {\n",
       "        vertical-align: middle;\n",
       "    }\n",
       "\n",
       "    .dataframe tbody tr th {\n",
       "        vertical-align: top;\n",
       "    }\n",
       "\n",
       "    .dataframe thead th {\n",
       "        text-align: right;\n",
       "    }\n",
       "</style>\n",
       "<table border=\"1\" class=\"dataframe\">\n",
       "  <thead>\n",
       "    <tr style=\"text-align: right;\">\n",
       "      <th></th>\n",
       "      <th>URL_ID</th>\n",
       "      <th>Title</th>\n",
       "      <th>Text</th>\n",
       "    </tr>\n",
       "  </thead>\n",
       "  <tbody>\n",
       "    <tr>\n",
       "      <th>0</th>\n",
       "      <td>blackassign0001</td>\n",
       "      <td>Rising IT cities and its impact on the economy...</td>\n",
       "      <td>We have seen a huge development and dependence...</td>\n",
       "    </tr>\n",
       "    <tr>\n",
       "      <th>1</th>\n",
       "      <td>blackassign0002</td>\n",
       "      <td>Rising IT Cities and Their Impact on the Econo...</td>\n",
       "      <td>Throughout history, from the industrial revolu...</td>\n",
       "    </tr>\n",
       "    <tr>\n",
       "      <th>2</th>\n",
       "      <td>blackassign0003</td>\n",
       "      <td>Internet Demand’s Evolution, Communication Imp...</td>\n",
       "      <td>IntroductionIn the span of just a few decades,...</td>\n",
       "    </tr>\n",
       "    <tr>\n",
       "      <th>3</th>\n",
       "      <td>blackassign0004</td>\n",
       "      <td>Rise of Cybercrime and its Effect in upcoming ...</td>\n",
       "      <td>The way we live, work, and communicate has unq...</td>\n",
       "    </tr>\n",
       "    <tr>\n",
       "      <th>4</th>\n",
       "      <td>blackassign0005</td>\n",
       "      <td>OTT platform and its impact on the entertainme...</td>\n",
       "      <td>The year 2040 is poised to witness a continued...</td>\n",
       "    </tr>\n",
       "  </tbody>\n",
       "</table>\n",
       "</div>"
      ],
      "text/plain": [
       "            URL_ID                                              Title  \\\n",
       "0  blackassign0001  Rising IT cities and its impact on the economy...   \n",
       "1  blackassign0002  Rising IT Cities and Their Impact on the Econo...   \n",
       "2  blackassign0003  Internet Demand’s Evolution, Communication Imp...   \n",
       "3  blackassign0004  Rise of Cybercrime and its Effect in upcoming ...   \n",
       "4  blackassign0005  OTT platform and its impact on the entertainme...   \n",
       "\n",
       "                                                Text  \n",
       "0  We have seen a huge development and dependence...  \n",
       "1  Throughout history, from the industrial revolu...  \n",
       "2  IntroductionIn the span of just a few decades,...  \n",
       "3  The way we live, work, and communicate has unq...  \n",
       "4  The year 2040 is poised to witness a continued...  "
      ]
     },
     "execution_count": 5,
     "metadata": {},
     "output_type": "execute_result"
    }
   ],
   "source": [
    "result_df.head()"
   ]
  },
  {
   "cell_type": "code",
   "execution_count": 6,
   "id": "c6909984-ab98-428a-bf58-7c1499d0774e",
   "metadata": {},
   "outputs": [],
   "source": [
    "result_df.to_excel('extracteddata.xlsx', index=False)"
   ]
  },
  {
   "cell_type": "code",
   "execution_count": 7,
   "id": "4a89a3be-467f-418d-a430-050580ac7886",
   "metadata": {},
   "outputs": [],
   "source": [
    "def save_to_file(url_id, title, text):\n",
    "    \n",
    "    filename = f\"{url_id}.txt\"\n",
    "   \n",
    "    with open(filename, 'w', encoding='utf-8') as file:\n",
    "        file.write(f\"Title: {title}\\n\\nText: {text}\")\n",
    "\n",
    "\n",
    "for url, url_id in zip(urls, url_ids):\n",
    "    title, text = extract_article_text(url)\n",
    "    save_to_file(url_id, title, text)"
   ]
  },
  {
   "cell_type": "code",
   "execution_count": null,
   "id": "15ab67c8-6c89-47d2-9948-5100a09aed21",
   "metadata": {},
   "outputs": [],
   "source": []
  }
 ],
 "metadata": {
  "kernelspec": {
   "display_name": "Python 3 (ipykernel)",
   "language": "python",
   "name": "python3"
  },
  "language_info": {
   "codemirror_mode": {
    "name": "ipython",
    "version": 3
   },
   "file_extension": ".py",
   "mimetype": "text/x-python",
   "name": "python",
   "nbconvert_exporter": "python",
   "pygments_lexer": "ipython3",
   "version": "3.9.13"
  }
 },
 "nbformat": 4,
 "nbformat_minor": 5
}
